{
 "cells": [
  {
   "cell_type": "code",
   "execution_count": 1,
   "metadata": {},
   "outputs": [],
   "source": [
    "import pandas as pd\n",
    "import random"
   ]
  },
  {
   "cell_type": "code",
   "execution_count": 2,
   "metadata": {},
   "outputs": [],
   "source": [
    "case_studies = ['credit', 'online_transaction']\n",
    "place = ['mumbai', 'pune', 'chennai', 'kerala']\n",
    "credit_keywords = ['Stole Credit Card', 'Stole Card', 'Stole Cards', 'Stolen Cards', 'Credit Card Theft', 'Activation Credit Card Call', 'Call for Activation of Credit Card', 'Call for Credit Limit Increase', 'Credit Limit Increase', 'Credit Limit Increase Call', 'Card-Not-Present Fraud', 'Scammer takes the details of your customers card', 'scammer takes the details of my credit card', 'scammer takes the details of credit card', 'Credit card details stolen', 'Identity Theft', 'account takeover', 'application fraud', 'fraudster takes over the entire account', 'takes over the account', 'stealing a credit card', 'stealing a credit card or its numbers.','stealing a credit card numbers.','mail theft','Phishing','Smishing','Vishing','Pharming','sharing personal information','sharing credit card numbers ','sharing credit card details','commit identity theft','email claiming that fraud was detected']\n",
    "credit_keywords_split = {i: i.split(' ') for i in credit_keywords}\n",
    "\n",
    "online_keywords = ['Identity Theft', 'steal consumers information', 'impersonating a website', 'impersonating online shop', 'asked for personal data ', 'Business email compromise', 'lure a companys staff', 'initiate a transfer to the fraudulent persons account', 'fraudulent persons account', 'impersonating a higher-up', 'invoice redirection', 'impersonating a supplier', 'scammer impersonates', 'scammer impersonates a supplier', 'Payment Interception', 'man in the middle fraud', 'intercepting transactions', 'intercepting transactions in the middle of the sales process', 'impersonate a company representative', 'direct hot leads to another fake website', 'direct another fake website', 'another fake website', 'Password or Code Hacking', 'Password and code hacking', 'Refund Frauds', 'place an order then prompt for a refund once fulfilled', 'place order and prompt for refund', 'Website Takeovers', 'fraudsters might change payment credentials', 'redirect to fradulent account']\n",
    "online_keywords_split = {i: i.split(' ') for i in online_keywords}\n",
    "\n",
    "credit_details = ['Hi, Today I have faced a very unfortunate accident. When I was going to bank, an old women approached me asking for some water to drink and started to collapse. When I reached to fetch my bottle. The women stood up out of no where and stole my wallet, it was containing my credit card, few bucks, etc. Request you all to be beware of such incidents happenig in the bank premises.', 'Hello, Today I was enjoying my weekend and out of no where I got a call asking about credit card details saying that my card is deactivated(but it is not) and if not provided they were threatening me that my card won\\'t work from today onwards. So I panicked and gave the scamster my details and then he asked for the OTP that I have received and shared that. After one hour, my bank was nullfied to an amount of 0. Request you all to be beware of such incidents.']\n",
    "# mode = ['online', 'offline']"
   ]
  },
  {
   "cell_type": "code",
   "execution_count": 3,
   "metadata": {},
   "outputs": [],
   "source": [
    "credit_keywords_dict = {i: 0 for i in credit_keywords}\n",
    "online_keywords_dict = {i: 0 for i in online_keywords}"
   ]
  },
  {
   "cell_type": "code",
   "execution_count": 4,
   "metadata": {},
   "outputs": [],
   "source": [
    "id_col = list(range(1000))"
   ]
  },
  {
   "cell_type": "code",
   "execution_count": 5,
   "metadata": {},
   "outputs": [],
   "source": [
    "df = pd.DataFrame(data=id_col, columns=['id'])"
   ]
  },
  {
   "cell_type": "code",
   "execution_count": 6,
   "metadata": {},
   "outputs": [],
   "source": [
    "def get_keyword(k, split_list, dict_):\n",
    "    return_keywords = []\n",
    "    for key, j in split_list.items():\n",
    "        count=0\n",
    "        for m in j:\n",
    "            if m.lower() in k.lower():\n",
    "                count += 1\n",
    "        if count == len(j):\n",
    "            dict_[key] += 1\n",
    "            return_keywords.append(key)\n",
    "    return return_keywords"
   ]
  },
  {
   "cell_type": "code",
   "execution_count": 7,
   "metadata": {},
   "outputs": [],
   "source": [
    "fraud_type_col = []\n",
    "place_col = []\n",
    "keywords_col = []\n",
    "details_col = []\n",
    "for _ in range(1000):\n",
    "    type_of_fraud = random.choice(case_studies)\n",
    "    fraud_type_col.append(type_of_fraud)\n",
    "    place_col.append(random.choice(place))\n",
    "    if type_of_fraud == 'credit':\n",
    "        det = random.choice(credit_details+credit_keywords)\n",
    "        details_col.append(det)\n",
    "        keywords_col.append(get_keyword(det, credit_keywords_split, credit_keywords_dict))\n",
    "    else:\n",
    "        det = random.choice(online_keywords)\n",
    "        details_col.append(det)\n",
    "        keywords_col.append(get_keyword(det, online_keywords_split, online_keywords_dict))"
   ]
  },
  {
   "cell_type": "code",
   "execution_count": 8,
   "metadata": {},
   "outputs": [],
   "source": [
    "df['fraud_type'] = fraud_type_col\n",
    "df['place'] = place_col\n",
    "df['details'] = details_col\n",
    "df['keywords'] = keywords_col"
   ]
  },
  {
   "cell_type": "code",
   "execution_count": 10,
   "metadata": {},
   "outputs": [],
   "source": [
    "df.to_json('./main-data.json')"
   ]
  },
  {
   "cell_type": "code",
   "execution_count": 107,
   "metadata": {},
   "outputs": [],
   "source": []
  },
  {
   "cell_type": "code",
   "execution_count": 103,
   "metadata": {},
   "outputs": [],
   "source": [
    "def get_online_keyword(k):\n",
    "    return_keywords = []\n",
    "    for key, j in online_keywords_split.items():\n",
    "        count=0\n",
    "        for m in j:\n",
    "            if m.lower() in k.lower():\n",
    "                count += 1\n",
    "        if count == len(j):\n",
    "            online_keywords_dict[key] += 1\n",
    "            return_keywords.append(key)\n",
    "    return return_keywords"
   ]
  },
  {
   "cell_type": "code",
   "execution_count": 17,
   "metadata": {},
   "outputs": [],
   "source": [
    "import json\n",
    "with open('./credit-card-count.json', 'w') as f:\n",
    "    json.dump(credit_keywords_dict, f)"
   ]
  },
  {
   "cell_type": "code",
   "execution_count": 19,
   "metadata": {},
   "outputs": [],
   "source": [
    "with open('./online-trans-count.json', 'w') as f:\n",
    "    json.dump(online_keywords_dict, f)"
   ]
  },
  {
   "cell_type": "code",
   "execution_count": 22,
   "metadata": {},
   "outputs": [],
   "source": [
    "overall_count = online_keywords_dict | credit_keywords_dict"
   ]
  },
  {
   "cell_type": "code",
   "execution_count": 23,
   "metadata": {},
   "outputs": [],
   "source": [
    "with open('./overall-count.json', 'w') as f:\n",
    "    json.dump(overall_count, f)"
   ]
  },
  {
   "cell_type": "code",
   "execution_count": 28,
   "metadata": {},
   "outputs": [],
   "source": [
    "df.iloc[0:10].to_json('sample-main.json', orient='records')"
   ]
  },
  {
   "cell_type": "code",
   "execution_count": null,
   "metadata": {},
   "outputs": [],
   "source": []
  }
 ],
 "metadata": {
  "interpreter": {
   "hash": "fe790426be3ec35a5b326d6c460bf5d08e4362478922e4d6717a4d1ea74f7014"
  },
  "kernelspec": {
   "display_name": "Python 3.9.7 ('chalaang-XpVm3ItU')",
   "language": "python",
   "name": "python3"
  },
  "language_info": {
   "codemirror_mode": {
    "name": "ipython",
    "version": 3
   },
   "file_extension": ".py",
   "mimetype": "text/x-python",
   "name": "python",
   "nbconvert_exporter": "python",
   "pygments_lexer": "ipython3",
   "version": "3.9.7"
  },
  "orig_nbformat": 4
 },
 "nbformat": 4,
 "nbformat_minor": 2
}
